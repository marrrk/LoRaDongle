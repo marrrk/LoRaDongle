{
 "cells": [
  {
   "cell_type": "markdown",
   "metadata": {},
   "source": [
    "# LoRaDongle Data Analysis Notebook"
   ]
  },
  {
   "attachments": {},
   "cell_type": "markdown",
   "metadata": {},
   "source": [
    "# Useful Links:\n",
    "\n",
    "1. [Select Row from DataFrame based on Column Value](https://stackoverflow.com/questions/17071871/how-do-i-select-rows-from-a-dataframe-based-on-column-values)\n",
    "2. [Get Cell Value from Dataframe](https://sparkbyexamples.com/pandas/pandas-get-cell-value-from-dataframe/)\n",
    "3. [How to Fix in Pandas: KeyError: “[‘Label’] not found in axis”](https://www.statology.org/pandas-keyerror-label-not-found-in-axis/)\n",
    "4. [Seaborn Tutorial in Python For Beginners](https://www.mygreatlearning.com/blog/seaborn-tutorial/)"
   ]
  },
  {
   "cell_type": "markdown",
   "metadata": {},
   "source": [
    "## Imports\n",
    "Starts with importing the relevant packages"
   ]
  },
  {
   "cell_type": "code",
   "execution_count": 61,
   "metadata": {},
   "outputs": [],
   "source": [
    "import csv, os\n",
    "import pandas as pd\n",
    "import matplotlib.pyplot as plt\n",
    "import numpy as np\n",
    "#import seaborn as sns"
   ]
  },
  {
   "cell_type": "markdown",
   "metadata": {},
   "source": [
    "## Global Variables\n",
    "The variables that will be used in the notebook:\n",
    "* List of the directories\n",
    "* Data stored in a dictionary of lists, with the directories being keys and the list having csvs in a dataframe"
   ]
  },
  {
   "cell_type": "code",
   "execution_count": 62,
   "metadata": {},
   "outputs": [],
   "source": [
    "data = {}\n",
    "directories = ['latency_tests/','menzies_tests/','parkade_tests/', 'outdoor_cbd/', 'outdoor_los/']"
   ]
  },
  {
   "cell_type": "markdown",
   "metadata": {},
   "source": [
    "# Reading Information CSVs\n",
    "(Will likely be more important for actual analysis)"
   ]
  },
  {
   "cell_type": "code",
   "execution_count": 63,
   "metadata": {},
   "outputs": [],
   "source": [
    "#for i, directory in enumerate(directories):\n",
    "#    csv_name = directory + 'tests_info.csv'\n",
    "#    info[directory] = pd.read_csv(csv_name)\n",
    "\n",
    "#info[directories[0]] = pd.read_csv('latency_tests/tests_info.csv')\n",
    "#print(info)\n",
    "\n",
    "latency_info =  pd.read_csv('latency_tests/tests_info.csv')\n",
    "indoor_tests_info = pd.read_csv('parkade_tests/tests_info.csv')\n",
    "#line_of_sight_info = pd.read_csv('outdoor_los/tests_info.csv')\n",
    "#cbd_info = pd.read_csv('outdoor_cbd/tests_info.csv')"
   ]
  },
  {
   "cell_type": "markdown",
   "metadata": {},
   "source": [
    "# Reading Data CSVs\n",
    "(probably not useful)"
   ]
  },
  {
   "cell_type": "code",
   "execution_count": 64,
   "metadata": {},
   "outputs": [
    {
     "name": "stdout",
     "output_type": "stream",
     "text": [
      "File count in latency_tests/:  7\n",
      "File count in menzies_tests/:  14\n",
      "File count in parkade_tests/:  37\n",
      "File count in outdoor_cbd/:  8\n",
      "File count in outdoor_los/:  7\n"
     ]
    }
   ],
   "source": [
    "for i, directory in enumerate(directories):\n",
    "    count = 0\n",
    "    data[directory] = []\n",
    "    for path in os.listdir(directory):\n",
    "        # check if current path is a file\n",
    "        if os.path.isfile(os.path.join(directory, path)):\n",
    "            count += 1\n",
    "        \n",
    "    print(f'File count in {directory}:  {count}')\n",
    "\n",
    "    #reading every csv, might need to keep track of test_number? or read csv indiviaidually!\n",
    "    for j in range(1,count):\n",
    "        csv_name = directories[i] + 'Test_' + str(j) + '.csv'\n",
    "        #print(csv_name)\n",
    "        data[directory].append(pd.read_csv(csv_name))\n",
    "        \n"
   ]
  },
  {
   "attachments": {},
   "cell_type": "markdown",
   "metadata": {},
   "source": [
    "# Analysis Plan\n",
    "With CSVs read, the goal is to print graphs for all the tests performed. Graphs should tell me things such as:\n",
    "* Percentage of successful messages\n",
    "* Average transmit latency\n",
    "* Average Round Time Latencies\n",
    "* Graph of SNRs and RSSIs\n",
    "  * Distance vs RSSI\n",
    "  * Distance vs SNR\n",
    "\n",
    "\n",
    "New plan for reading and handling csvs:\n",
    "It seems like it would be easier to use tests_info.csv to iterate through CSVs in that folder and then extract the information you need from each csv. As opposed to reading all of them at once and struggling through.\n",
    "\n",
    "Advice from mauro: load all csvs into a large dataframe and add columns from the tests_info.csv. that way can just filter out the various sections needed for analysis and plotting. will try implement that."
   ]
  },
  {
   "attachments": {},
   "cell_type": "markdown",
   "metadata": {},
   "source": [
    "# Latency Analysis\n",
    "Probably best to show it as a table. Should show average latency for each configuration! Therefore, iterate through config csvs and extract the necessary data\n",
    "Basically create a new dataframe of read CSVs\n",
    "\n",
    "Structure of analysis:\n",
    "For every line in  test_info.csv (which is a test descriptor), read the corresponding csv and extract the average latency.\n",
    "Then store it in the master latency dataframe."
   ]
  },
  {
   "cell_type": "code",
   "execution_count": 65,
   "metadata": {},
   "outputs": [
    {
     "name": "stdout",
     "output_type": "stream",
     "text": [
      "   Configuration  Average Tx Time  Average Round Trip Time\n",
      "0              1              549                     1194\n",
      "1              2             2762                     5635\n",
      "2              3             9236                    18630\n",
      "3              4              699                     1491\n",
      "4              5             3601                     7314\n",
      "5              6            12067                    24294\n"
     ]
    }
   ],
   "source": [
    "latency_columns = ['Configuration', \"Average Tx Time\", \"Average Round Trip Time\"]#, \"Max Tx Time\", \"Min Tx Time\"]  #for now, configuration corresponds to test number, for latency testing there should really be only six tests\n",
    "latency_results = {}\n",
    "\n",
    "for column in latency_columns:\n",
    "    latency_results[column] = []        #Initialising dictionary keys with empty lists\n",
    "\n",
    "\n",
    "#obtaining the list of tests (hence files) in the directory\n",
    "tests = latency_info[\"Test Number\"].tolist()\n",
    "\n",
    "#opening and extracting necessary info per csv\n",
    "for test_num in tests:\n",
    "\n",
    "    test_config = latency_info.loc[latency_info[\"Test Number\"] == test_num][\"Configuration\"]\n",
    "    #print(test_config) TODO: get the config of the test number and then use that to append to latency results configuration list\n",
    "\n",
    "    #start with adding the configuration to latency results\n",
    "    latency_results['Configuration'].append(test_num)\n",
    "\n",
    "    #reading required test csv\n",
    "    csv_name =   \"latency_tests/Test_\" + str(test_num) + \".csv\"\n",
    "    test_csv = pd.read_csv(csv_name)\n",
    "\n",
    "    #### Obtaining Average Tx\n",
    "    average_latency = test_csv[\"Time to Send\"].mean()\n",
    "    #print(average_latency)\n",
    "    latency_results['Average Tx Time'].append(int(round(average_latency,0)))\n",
    "\n",
    "    ### Obtaining Average Rx\n",
    "    average_rx = test_csv[\"Time to Receive\"].mean()\n",
    "    latency_results['Average Round Trip Time'].append(int(round(average_rx,0)))\n",
    "\n",
    "    #### Obtaining Max\n",
    "    max_latency = test_csv[\"Time to Send\"].max()\n",
    "    #latency_results['Max Tx Time'].append(int(round(max_latency, 0)))\n",
    "\n",
    "    #### Obtaining Min\n",
    "    min_latency = test_csv[\"Time to Send\"].min()\n",
    "    #latency_results['Min Tx Time'].append(int(round(min_latency, 0)))\n",
    "\n",
    "\n",
    "#convert results to dataframe\n",
    "latency_df = pd.DataFrame.from_dict(latency_results)\n",
    "print(latency_df)"
   ]
  },
  {
   "cell_type": "code",
   "execution_count": 66,
   "metadata": {},
   "outputs": [
    {
     "data": {
      "image/png": "[encoded data removed]",
      "text/plain": [
       "<Figure size 640x480 with 1 Axes>"
      ]
     },
     "metadata": {},
     "output_type": "display_data"
    }
   ],
   "source": [
    "\n",
    "###############################Plotting table#################################### (just to see in table form, not needed for final graph)\n",
    "# (Not that useful for final report)\n",
    "\n",
    "\n",
    "#define figure and axes\n",
    "fig, ax = plt.subplots()\n",
    "\n",
    "#hide the axes\n",
    "fig.patch.set_visible(False)\n",
    "ax.axis('off')\n",
    "ax.axis('tight')\n",
    "\n",
    "#create table\n",
    "table = ax.table(cellText=latency_df.values, colLabels=latency_df.columns, loc='center')\n",
    "\n",
    "#display table\n",
    "fig.tight_layout()\n",
    "plt.show()"
   ]
  },
  {
   "attachments": {},
   "cell_type": "markdown",
   "metadata": {},
   "source": [
    "# Indoor Testing Analysis\n",
    "Want to display the data as how each configuration responds due to the floor difference. So for example will look at a dloor differnce of two, will want to plot the % success rate of each configuration, the snr and rssi's of the configs as well.\n",
    "\n",
    "The story to be told is eg: \"looking at floor 3, configs 5-6 performed much better than configs 1-2\"\n",
    "\n",
    "Processing challenge will be:\n",
    "1. Read info file\n",
    "2. Filter by floor difference, horizontal distance\n",
    "3. then filter by config\n",
    "4. then read the test csvs of that config and that floor differnce\n",
    "5. Pull the necessary data, appending it to whatever new dataframe that you have that will then plot the graphs.\n",
    "6. Rinse and repeat"
   ]
  },
  {
   "attachments": {},
   "cell_type": "markdown",
   "metadata": {},
   "source": [
    "## 1 Floor Difference"
   ]
  },
  {
   "attachments": {},
   "cell_type": "markdown",
   "metadata": {},
   "source": [
    "### Success Rate\n",
    "Breaking down csvs and creating one dataframe that stores success rate of the six different configs over one floor difference\n",
    "\n",
    "#### Parsing Data"
   ]
  },
  {
   "cell_type": "code",
   "execution_count": 67,
   "metadata": {},
   "outputs": [
    {
     "name": "stdout",
     "output_type": "stream",
     "text": [
      "{3: 1, 4: 2, 7: 3, 10: 4, 13: 5, 16: 6}\n"
     ]
    }
   ],
   "source": [
    "#print(indoor_tests_info)\n",
    "success_rate_df = pd.DataFrame(columns = [\"Config\", \"Success Rate\"])\n",
    "success_rate_columns = [\"Config\", \"Success Rate\"]\n",
    "success_rate_dict = {}\n",
    "\n",
    "for column in success_rate_columns:\n",
    "    success_rate_dict[column] = []\n",
    "\n",
    "\n",
    "# Extract files info with 1 floor difference\n",
    "floor_1_diff = indoor_tests_info.loc[indoor_tests_info[\"Floor Difference\"] == 1]\n",
    "#print(floor_1_diff.head())\n",
    "\n",
    "test_nums = floor_1_diff[\"Test Number\"].tolist()\n",
    "configs=floor_1_diff[\"Configuration\"].to_list()\n",
    "#print(configs)\n",
    "#print(test_nums)\n",
    "\n",
    "configs_2 = floor_1_diff.set_index(\"Test Number\").to_dict()[\"Configuration\"]\n",
    "print(configs_2)\n",
    "#print(floor_1_diff[\"Configuration\"])\n",
    "\n",
    "for test_num in test_nums:\n",
    "    test_name = 'parkade_tests/Test_' + str(test_num) + \".csv\"\n",
    "    test_df = pd.read_csv(test_name)\n",
    "\n",
    "    #start with calculating percentage of successful transmits\n",
    "    \n",
    "    # Counting the number of trues for current test, converting to dictionary\n",
    "    current_success_rate = test_df['Success'].value_counts(normalize=True) # obtain percentage of trues and falses\n",
    "    current_success_rate = current_success_rate.to_dict()\n",
    "\n",
    "    success_rate_dict[\"Config\"].append(configs_2[test_num])\n",
    "    success_rate_dict[\"Success Rate\"].append(current_success_rate[True] * 100)\n",
    "\n",
    "\n",
    "\n",
    "success_rate_df = pd.DataFrame.from_dict(success_rate_dict)\n"
   ]
  },
  {
   "attachments": {},
   "cell_type": "markdown",
   "metadata": {},
   "source": [
    "#### Plotting Graph (?)"
   ]
  },
  {
   "cell_type": "code",
   "execution_count": 68,
   "metadata": {},
   "outputs": [
    {
     "name": "stdout",
     "output_type": "stream",
     "text": [
      "   Config  Success Rate\n",
      "0       1    100.000000\n",
      "1       2    100.000000\n",
      "2       3     96.666667\n",
      "3       4     96.551724\n",
      "4       5    100.000000\n"
     ]
    }
   ],
   "source": [
    "print(success_rate_df.head())"
   ]
  },
  {
   "attachments": {},
   "cell_type": "markdown",
   "metadata": {},
   "source": [
    "### RSSI"
   ]
  }
 ],
 "metadata": {
  "kernelspec": {
   "display_name": "venv",
   "language": "python",
   "name": "python3"
  },
  "language_info": {
   "codemirror_mode": {
    "name": "ipython",
    "version": 3
   },
   "file_extension": ".py",
   "mimetype": "text/x-python",
   "name": "python",
   "nbconvert_exporter": "python",
   "pygments_lexer": "ipython3",
   "version": "3.8.10 (default, Jun 22 2022, 20:18:18) \n[GCC 9.4.0]"
  },
  "orig_nbformat": 4,
  "vscode": {
   "interpreter": {
    "hash": "fc8668d00a5d969c38bc4b6b5af8462a3d32847f681018dd118d196f4ac24146"
   }
  }
 },
 "nbformat": 4,
 "nbformat_minor": 2
}
