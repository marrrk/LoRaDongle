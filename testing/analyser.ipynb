{
 "cells": [
  {
   "cell_type": "markdown",
   "metadata": {},
   "source": [
    "# LoRaDongle Data Analysis Notebook"
   ]
  },
  {
   "cell_type": "markdown",
   "metadata": {},
   "source": [
    "## Imports\n",
    "Starts with importing the relevant packages"
   ]
  },
  {
   "cell_type": "code",
   "execution_count": 51,
   "metadata": {},
   "outputs": [],
   "source": [
    "import csv, os\n",
    "import pandas as pd\n",
    "import matplotlib.pyplot as plt\n",
    "import numpy as np"
   ]
  },
  {
   "cell_type": "markdown",
   "metadata": {},
   "source": [
    "## Global Variables\n",
    "The variables that will be used in the notebook:\n",
    "* List of the directories\n",
    "* Data stored in a dictionary of lists, with the directories being keys and the list having csvs in a dataframe"
   ]
  },
  {
   "cell_type": "code",
   "execution_count": 52,
   "metadata": {},
   "outputs": [],
   "source": [
    "data = {}\n",
    "directories = ['menzies_tests/','parkade_tests/', 'outdoor_cbd/', 'outdoor_forest/', 'outdoor_los/']\n",
    "info = {}"
   ]
  },
  {
   "cell_type": "markdown",
   "metadata": {},
   "source": [
    "# Reading Information CSVs\n",
    "(Will likely be more important for actual analysis)"
   ]
  },
  {
   "cell_type": "code",
   "execution_count": 53,
   "metadata": {},
   "outputs": [],
   "source": [
    "#for i, directory in enumerate(directories):\n",
    "#    csv_name = directory + 'tests_info.csv'\n",
    "#    info[directory] = pd.read_csv(csv_name)\n",
    "\n",
    "info[directories[0]] = pd.read_csv('menzies_tests/tests_info.csv')\n",
    "#print(info)"
   ]
  },
  {
   "cell_type": "markdown",
   "metadata": {},
   "source": [
    "# Reading Data CSVs\n",
    "(probably not useful)"
   ]
  },
  {
   "cell_type": "code",
   "execution_count": 54,
   "metadata": {},
   "outputs": [
    {
     "name": "stdout",
     "output_type": "stream",
     "text": [
      "File count in menzies_tests/:  14\n",
      "File count in parkade_tests/:  0\n",
      "File count in outdoor_cbd/:  0\n",
      "File count in outdoor_forest/:  0\n",
      "File count in outdoor_los/:  0\n"
     ]
    }
   ],
   "source": [
    "for i, directory in enumerate(directories):\n",
    "    count = 0\n",
    "    data[directory] = []\n",
    "    for path in os.listdir(directory):\n",
    "        # check if current path is a file\n",
    "        if os.path.isfile(os.path.join(directory, path)):\n",
    "            count += 1\n",
    "        \n",
    "    print(f'File count in {directory}:  {count}')\n",
    "\n",
    "    #reading every csv, might need to keep track of test_number? or read csv indiviaidually!\n",
    "    for j in range(1,count):\n",
    "        csv_name = directories[i] + 'Test_' + str(j) + '.csv'\n",
    "        #print(csv_name)\n",
    "        data[directory].append(pd.read_csv(csv_name))\n",
    "        \n"
   ]
  },
  {
   "cell_type": "code",
   "execution_count": 85,
   "metadata": {},
   "outputs": [],
   "source": [
    "# Just a test, not useful in final draft!\n",
    "\n",
    "for csv in data[directories[0]]:\n",
    "    #print (csv.to_string())\n",
    "    pass\n",
    "menzies_df_1 = data[directories[0]][12]"
   ]
  },
  {
   "cell_type": "markdown",
   "metadata": {},
   "source": [
    "## Plan of action\n",
    "With CSVs read, the goal is to print graphs for all the tests performed. Graphs should tell me things such as:\n",
    "* Percentage of successful messages\n",
    "* Average transmit latency\n",
    "* Average Round Time Latencies\n",
    "* Graph of SNRs and RSSIs\n",
    "\n",
    "\n",
    "### New plan for reading and handling csvs\n",
    "It seems like it would be easier to use tests_info.csv to iterate through CSVs in that folder and then extract the information you need from each csv. As opposed to reading all of them at once and struggling through."
   ]
  },
  {
   "cell_type": "markdown",
   "metadata": {},
   "source": [
    "## Latencies\n",
    "Probably best to show it as a table. Should show max/min and average latency for each configuration! Therefore, iterate through csvs and get necessary data!\n",
    "\n",
    "Basically create a new dataframe of read CSVs\n",
    "\n",
    "### With New Plan\n",
    "For every line in the read csv file (which is a test descriptor), read that test csv and extract the average, min and max latency. Store it in a new location"
   ]
  },
  {
   "cell_type": "code",
   "execution_count": 86,
   "metadata": {},
   "outputs": [
    {
     "data": {
      "image/png": "[encoded data removed]",
      "text/plain": [
       "<Figure size 640x480 with 1 Axes>"
      ]
     },
     "metadata": {},
     "output_type": "display_data"
    }
   ],
   "source": [
    "latency_columns = ['Configuration', \"Average Tx Time\", \"Max Tx Time\", \"Min Tx Time\"]  #for now, configuration corresponds to test number, for latency testing there should really be only six tests\n",
    "latency_results = {}\n",
    "\n",
    "for column in latency_columns:\n",
    "    latency_results[column] = []        #just initialising new data\n",
    "\n",
    "\n",
    "# going through test_infos\n",
    "for test_info in info: # info is a dictionary, each key points to a tests_info dataframe.   \n",
    "\n",
    "#Do i need to iterate through all directories? maybe just the latency one is necessary\n",
    "    df = info[test_info]        # obtaining dataframe for directory\n",
    "    #print(df)\n",
    "\n",
    "    #getting the number of tests (hence files) in that directory\n",
    "    tests = df[\"Test Number\"].tolist()\n",
    "    \n",
    "    #opening and extracting necessary info for csv\n",
    "    for test_num in tests:\n",
    "        #start with adding the configuration to latency results\n",
    "        latency_results['Configuration'].append(test_num)\n",
    "\n",
    "        #reading current test csv\n",
    "        csv_name =  test_info + \"Test_\" + str(test_num) + \".csv\"\n",
    "        test_csv = pd.read_csv(csv_name)\n",
    "\n",
    "        #### Obtaining Average\n",
    "        average_latency = test_csv[\"Time to Send\"].mean()\n",
    "        #print(average_latency)\n",
    "        #print(int(round(average_latency,0)))\n",
    "        latency_results['Average Tx Time'].append(int(round(average_latency,0)))\n",
    "\n",
    "\n",
    "        #### Obtaining Max\n",
    "        max_latency = test_csv[\"Time to Send\"].max()\n",
    "        latency_results['Max Tx Time'].append(int(round(max_latency, 0)))\n",
    "\n",
    "\n",
    "        #### Obtaining Min\n",
    "        min_latency = test_csv[\"Time to Send\"].min()\n",
    "        latency_results['Min Tx Time'].append(int(round(min_latency, 0)))\n",
    "\n",
    "\n",
    "#convert results to dataframe\n",
    "latency_df = pd.DataFrame.from_dict(latency_results)\n",
    "\n",
    "###############################Plotting table####################################\n",
    "# (Not that useful for final report)\n",
    "\n",
    "\n",
    "#define figure and axes\n",
    "fig, ax = plt.subplots()\n",
    "\n",
    "#hide the axes\n",
    "fig.patch.set_visible(False)\n",
    "ax.axis('off')\n",
    "ax.axis('tight')\n",
    "\n",
    "\n",
    "#create table\n",
    "table = ax.table(cellText=latency_df.values, colLabels=latency_df.columns, loc='center')\n",
    "\n",
    "#display table\n",
    "fig.tight_layout()\n",
    "plt.show()"
   ]
  },
  {
   "cell_type": "code",
   "execution_count": null,
   "metadata": {},
   "outputs": [],
   "source": []
  }
 ],
 "metadata": {
  "kernelspec": {
   "display_name": "Python 3.8.10 ('venv': venv)",
   "language": "python",
   "name": "python3"
  },
  "language_info": {
   "codemirror_mode": {
    "name": "ipython",
    "version": 3
   },
   "file_extension": ".py",
   "mimetype": "text/x-python",
   "name": "python",
   "nbconvert_exporter": "python",
   "pygments_lexer": "ipython3",
   "version": "3.8.10"
  },
  "orig_nbformat": 4,
  "vscode": {
   "interpreter": {
    "hash": "fc8668d00a5d969c38bc4b6b5af8462a3d32847f681018dd118d196f4ac24146"
   }
  }
 },
 "nbformat": 4,
 "nbformat_minor": 2
}
